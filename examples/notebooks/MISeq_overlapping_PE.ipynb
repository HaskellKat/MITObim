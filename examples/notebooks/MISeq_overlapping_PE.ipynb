{
 "cells": [
  {
   "cell_type": "markdown",
   "metadata": {},
   "source": [
    "##OVERVIEW of the pipeline##"
   ]
  },
  {
   "cell_type": "markdown",
   "metadata": {},
   "source": [
    "The pipeline reconstructs a mitochondrial genome from (genomic) paired end Illumina data (e.g. MISeq) given a reasonable reference seed sequence, which may be a (partial) mitochondrial genome sequence of a related taxon."
   ]
  },
  {
   "cell_type": "markdown",
   "metadata": {},
   "source": [
    "##SUMMARY of the steps performed by the pipeline##"
   ]
  },
  {
   "cell_type": "markdown",
   "metadata": {},
   "source": [
    "\n",
    "\n",
    " - Defining location of data and establishing basic file structure\n",
    " - Quality trim raw Illumina data using the [MIRA](http://mira-assembler.sourceforge.net/docs/DefinitiveGuideToMIRA.html) assembler\n",
    " - Extract paired end reads after quality trimming using custom Python functions\n",
    " - Merge overlapping paired end reads using [FLASh](https://ccb.jhu.edu/software/FLASH/)\n",
    " - Run [MITObim](https://github.com/chrishah/MITObim) pipeline to reconstruct a mitochondrial genome\n",
    " - Extract relevant results\n",
    "\n"
   ]
  },
  {
   "cell_type": "markdown",
   "metadata": {},
   "source": [
    "##REQUIREMENTS##"
   ]
  },
  {
   "cell_type": "markdown",
   "metadata": {},
   "source": [
    " \n",
    "The below pipeline requires the following programs/scripts to be in your path.\n",
    " - [FLASh](https://ccb.jhu.edu/software/FLASH/)\n",
    " - [MIRA](http://mira-assembler.sourceforge.net/docs/DefinitiveGuideToMIRA.html) assembler (pipeline was tested with MIRA 4.0.2 available from [here](http://sourceforge.net/projects/mira-assembler/files/MIRA/stable/).\n",
    " - [MITObim](https://github.com/chrishah/MITObim)"
   ]
  },
  {
   "cell_type": "markdown",
   "metadata": {},
   "source": [
    "##A DEFAULT Run##"
   ]
  },
  {
   "cell_type": "markdown",
   "metadata": {},
   "source": [
    "You need __ONLY CHANGE THE FIRST SECTION__ of the following cell to match it to the data at hand.\n",
    "The following cell will create a basic directory structure. Subsequently it will trim raw Illumina reads using the [MIRA](http://mira-assembler.sourceforge.net/docs/DefinitiveGuideToMIRA.html) assembler. \n",
    "\n",
    "All subsequent cells can be executed as they are. They will expect the particular structure established here and will require no further changes under default conditions. "
   ]
  },
  {
   "cell_type": "code",
   "execution_count": null,
   "metadata": {
    "collapsed": false
   },
   "outputs": [],
   "source": [
    "%%bash\n",
    "\n",
    "#######################\n",
    "#define variables - THIS IS THE ONLY SECTION THAT NEEDS CHANGING TO FIT YOUR DATA\n",
    "#######################\n",
    "\n",
    "#sample name\n",
    "sample='O_grimaldii_s19'\n",
    "#location of raw forward Illumina reads\n",
    "forw=\"/media/chrishah/STORAGE/DATA/MITObim/Jan_Poulsen/Poulsen_data/Opgr_S19_L001_R1_001.fastq.gz\"\n",
    "#location of raw reverse Illumina reads\n",
    "reve=\"/media/chrishah/STORAGE/DATA/MITObim/Jan_Poulsen/Poulsen_data/Opgr_S19_L001_R2_001.fastq.gz\"\n",
    "#location of fasta file used as seed for MITObim assembly\n",
    "seed=\"/media/chrishah/STORAGE/DATA/MITObim/Jan_Poulsen/Barcodes/1356_OPGR_CO1.fasta\"\n",
    "#minimum length for reads after trimming\n",
    "min_length=100\n",
    "#number of CPUs to use in analyses\n",
    "threads=5\n",
    "\n",
    "\n",
    "######################\n",
    "#NO MORE CHANGES NEEDED FROM HERE ON OUT IF YOU'RE HAPPY WITH A DEFAULT RUN\n",
    "######################\n",
    "\n",
    "######################\n",
    "#create directory structure and symbolic links to future files\n",
    "######################\n",
    "\n",
    "mkdir 1-raw\n",
    "cd 1-raw\n",
    "ln -s $forw pe_raw_1.fastq.gz\n",
    "ln -s $reve pe_raw_2.fastq.gz\n",
    "ln -s $seed seed.fasta\n",
    "cd ..\n",
    "\n",
    "mkdir 2-read-trimming\n",
    "cd 2-read-trimming\n",
    "ln -s pe-trimmed-1.fastq.gz $sample\\_trimmed-minlength-$min_length-pe-1.fastq.gz\n",
    "ln -s pe-trimmed-2.fastq.gz $sample\\_trimmed-minlength-$min_length-pe-2.fastq.gz\n",
    "ln -s se-trimmed.fastq.gz $sample\\_trimmed-minlength-$min_length-se.fastq.gz\n",
    "cd ..\n",
    "\n",
    "mkdir 3-read-merging\n",
    "cd 3-read-merging\n",
    "ln -s out.extendedFrags.fastq.gz $sample\\_trimmed-minlength-$min_length-merged.fastq.gz\n",
    "cd ..\n",
    "\n",
    "mkdir 4-MITObim/\n",
    "ln -s 4-MITObim/mt-candidate.fasta $sample\\_mt_candidate.fasta\n",
    "\n",
    "\n",
    "#############################\n",
    "#Trimming Illumina reads using the MIRA assembler\n",
    "############################\n",
    "cd 2-read-trimming/\n",
    "\n",
    "#write manifest file as instructions for MIRA assembler\n",
    "echo \"\n",
    "project = $sample\n",
    "job = genome,denovo,accurate\n",
    "parameters = -GE:not=$threads -AS:nop=0 -NW=mrnl=0 SOLEXA_SETTINGS -CO:msr=no\n",
    "\n",
    "readgroup = $sample\\_raw\n",
    "data = $forw $reve\n",
    "technology = solexa\n",
    "strain = $sample \"> manifest.conf\n",
    "\n",
    "#running MIRA just for trimming\n",
    "mira manifest.conf &> trim.log\n",
    "\n",
    "#extract trimmed reads\n",
    "echo -e \"\\n\\n################\\n\\nextracting trimmed reads\\n\\n\" &>> trim.log\n",
    "miraconvert -f maf -t fastq -C -X $min_length $sample\\_assembly/$sample\\_d_chkpt/readpool.maf mixed-trimmed &>> trim.log\n",
    "\n",
    "cd ..\n",
    "\n"
   ]
  },
  {
   "cell_type": "markdown",
   "metadata": {},
   "source": [
    "__Define__ a few Python functions."
   ]
  },
  {
   "cell_type": "code",
   "execution_count": null,
   "metadata": {
    "collapsed": false
   },
   "outputs": [],
   "source": [
    "def open_fastq(filename, r=False, w=False):\n",
    "    \"\"\"\n",
    "    Function that opens a fastq file handle\n",
    "    \"\"\"\n",
    "    \n",
    "    import gzip\n",
    "    \n",
    "    if not r and not w:\n",
    "        raise IOError('Either reading (r) or writing (w) needs to be specified\\n')\n",
    "        \n",
    "    if r and w:\n",
    "        raise IOError('Choose either reading (r) or writing (w) \\n')\n",
    "    \n",
    "    if r:\n",
    "        mode = 'r'\n",
    "    elif w:\n",
    "        mode = 'w'\n",
    "    \n",
    "    if filename.endswith('.gz'):\n",
    "        FH = gzip.open(filename, mode+'b')\n",
    "    else:\n",
    "        FH = open(filename, mode)\n",
    "        \n",
    "    return FH\n",
    "\n",
    "def extract_good_pairs_and_singletons(to_process, out_dir):\n",
    "    \"\"\"\n",
    "    The function parses a fastq file (gzipped supported)\n",
    "    and separates paired end from singleton reads\n",
    "    \"\"\"\n",
    "    import gzip\n",
    "    from Bio import SeqIO\n",
    "    from collections import defaultdict\n",
    "    \n",
    "    id_dict = defaultdict(list)\n",
    "    \n",
    "    to_process_FH = open_fastq(to_process, r=True)\n",
    "    pe_1_FH = open_fastq(out_dir+'/pe-trimmed-1.fastq.gz', w=True)\n",
    "    pe_2_FH = open_fastq(out_dir+'/pe-trimmed-2.fastq.gz', w=True)\n",
    "    se_FH = open_fastq(out_dir+'/se-trimmed.fastq.gz', w=True)\n",
    "    \n",
    "    for read in SeqIO.parse(to_process_FH, 'fastq'):\n",
    "        ID = read.id[:-2]\n",
    "        id_dict[ID].append(read)\n",
    "        if len(id_dict[ID]) == 2:\n",
    "            id_dict[ID] = sorted(id_dict[ID])\n",
    "            SeqIO.write(id_dict[ID][0], pe_1_FH, 'fastq')\n",
    "            SeqIO.write(id_dict[ID][1], pe_2_FH, 'fastq')\n",
    "            del id_dict[ID]\n",
    "            \n",
    "    for ID in id_dict.keys():\n",
    "        SeqIO.write(id_dict[ID][0], se_FH, 'fastq')\n",
    "               \n",
    "    to_process_FH.close()\n",
    "    pe_1_FH.close()\n",
    "    pe_2_FH.close()\n",
    "    se_FH.close()\n",
    "    del id_dict"
   ]
  },
  {
   "cell_type": "markdown",
   "metadata": {},
   "source": [
    "__Extract__ good read pairs for further processing after read quality trimming using the Python functions defined above."
   ]
  },
  {
   "cell_type": "code",
   "execution_count": null,
   "metadata": {
    "collapsed": false
   },
   "outputs": [],
   "source": [
    "extract_good_pairs_and_singletons(to_process=\"./2-read-trimming/mixed-trimmed.fastq\", out_dir='./2-read-trimming/')"
   ]
  },
  {
   "cell_type": "markdown",
   "metadata": {},
   "source": [
    "__Merge__ overlapping paired end reads using the program [FLASh](https://ccb.jhu.edu/software/FLASH/)."
   ]
  },
  {
   "cell_type": "code",
   "execution_count": null,
   "metadata": {
    "collapsed": false,
    "scrolled": true
   },
   "outputs": [],
   "source": [
    "%%bash\n",
    "\n",
    "cd 3-read-merging\n",
    "flash ../2-read-trimming/pe-trimmed-1.fastq.gz ../2-read-trimming/pe-trimmed-2.fastq.gz -z -d ./ &> flash.log\n",
    "cd .."
   ]
  },
  {
   "cell_type": "markdown",
   "metadata": {},
   "source": [
    "__Run MITObim__ pipeline to reconstruct the mt genome."
   ]
  },
  {
   "cell_type": "code",
   "execution_count": null,
   "metadata": {
    "collapsed": false
   },
   "outputs": [],
   "source": [
    "%%bash\n",
    "\n",
    "cd 4-MITObim\n",
    "/home/chrishah/Dropbox/Github/MITObim/MITObim_1.8.pl --quick ../1-raw/seed.fasta -readpool ../3-read-merging/out.extendedFrags.fastq.gz -sample sample -ref seed -end 50 --clean &> MITObim.log\n",
    "cd .."
   ]
  },
  {
   "cell_type": "markdown",
   "metadata": {},
   "source": [
    "__Create__ symbolic links to MITObim results (assuming that MITObim has converged to a stable mt readpool we use the result from the next to last iteration)."
   ]
  },
  {
   "cell_type": "code",
   "execution_count": null,
   "metadata": {
    "collapsed": false
   },
   "outputs": [],
   "source": [
    "%%bash\n",
    "\n",
    "cd 4-MITObim/\n",
    "iteration=$(ls -1 ./ | grep \"iteration\" | sed 's/iteration//g' | sort -n | tail -n 2 |head -n 1)\n",
    "ln -s iteration$iteration/temp_baitfile.fasta mt-candidate.fasta\n",
    "ln -s iteration$iteration/sample-readpool-it$iteration.fastq mt-candidate-readpool.fastq\n",
    "cd ..\n"
   ]
  }
 ],
 "metadata": {
  "kernelspec": {
   "display_name": "Python 2",
   "language": "python",
   "name": "python2"
  },
  "language_info": {
   "codemirror_mode": {
    "name": "ipython",
    "version": 2
   },
   "file_extension": ".py",
   "mimetype": "text/x-python",
   "name": "python",
   "nbconvert_exporter": "python",
   "pygments_lexer": "ipython2",
   "version": "2.7.9"
  }
 },
 "nbformat": 4,
 "nbformat_minor": 0
}
